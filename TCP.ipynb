{
  "nbformat": 4,
  "nbformat_minor": 0,
  "metadata": {
    "colab": {
      "provenance": [],
      "authorship_tag": "ABX9TyOLq3Q1uu3dKFvLIDsHw2xC",
      "include_colab_link": true
    },
    "kernelspec": {
      "name": "python3",
      "display_name": "Python 3"
    },
    "language_info": {
      "name": "python"
    }
  },
  "cells": [
    {
      "cell_type": "markdown",
      "metadata": {
        "id": "view-in-github",
        "colab_type": "text"
      },
      "source": [
        "<a href=\"https://colab.research.google.com/github/gk040707/IoT/blob/main/TCP.ipynb\" target=\"_parent\"><img src=\"https://colab.research.google.com/assets/colab-badge.svg\" alt=\"Open In Colab\"/></a>"
      ]
    },
    {
      "cell_type": "code",
      "execution_count": 7,
      "metadata": {
        "id": "0k-VRST_VdUU",
        "colab": {
          "base_uri": "https://localhost:8080/"
        },
        "outputId": "385c4ca3-01bd-43de-e238-f9b0405a7064"
      },
      "outputs": [
        {
          "output_type": "stream",
          "name": "stdout",
          "text": [
            "Received HTTP/1.1 400 Bad Request\r\n",
            "Date: Thu, 28 Mar 2024 04:37:57 GMT\r\n",
            "Server: Apache\r\n",
            "Upgrade: h2,h2c\r\n",
            "Connection: Upgrade, close\r\n",
            "Accept-Ranges: bytes\r\n",
            "Vary: Accept-Encoding\r\n",
            "Cache-Control: no-cache, no-store, must-revalidate\r\n",
            "Pragma: no-cache\r\n",
            "Expires: 0\r\n",
            "Content-Type: text/html\r\n",
            "\r\n",
            "\n",
            "\n",
            "\n",
            "<!DOCTYPE html>\n",
            "<html>\n",
            "    <head>\n",
            "    <meta http-equiv=\"Content-type\" content=\"text/html; charset=utf-8\">\n",
            "    <meta http-equiv=\"Cache-control\" content=\"no-cache\">\n",
            "    <meta http-equiv=\"Pragma\" content=\"no-cache\">\n",
            "    <meta http-equiv=\"Expires\" content=\"0\">\n",
            "    <meta name=\"viewport\" content=\"width=device-width, initial-scale=1.0\">\n",
            "    <title>400 Bad Request</title>\n",
            "    <style type=\"text/css\">\n",
            "        body {\n",
            "            font-family: Arial, Helvetica, sans-serif;\n",
            "            font-size: 14px;\n",
            "            line-height: 1.428571429;\n",
            "            background-color: #ffffff;\n",
            "            color: #2F3230;\n",
            "            padding: 0;\n",
            "            margin: 0;\n",
            "        }\n",
            "        section, footer {\n",
            "            display: block;\n",
            "            padding: 0;\n",
            "         \n"
          ]
        }
      ],
      "source": [
        "import socket\n",
        "\n",
        "with socket.socket(socket.AF_INET, socket.SOCK_STREAM) as s:\n",
        "    s.connect((\"daum.com\", 80))\n",
        "    s.sendall(b\"GET / HTTP/1.2\\n\\n\")\n",
        "    data = s.recv(1024)\n",
        "\n",
        "print(f\"Received {data.decode('utf-8')}\")"
      ]
    },
    {
      "cell_type": "code",
      "source": [
        "import socket\n",
        "\n",
        "with socket.socket(socket.AF_INET, socket.SOCK_STREAM) as s:\n",
        "    s.connect((\"google.com\", 80))\n",
        "    s.sendall(b\"GET / HTTP/1.2\\n\\n\")\n",
        "    data = s.recv(1024)\n",
        "\n",
        "print(f\"Received {data.decode('utf-8')}\")"
      ],
      "metadata": {
        "id": "qmf4RWlPVeOt",
        "colab": {
          "base_uri": "https://localhost:8080/"
        },
        "outputId": "98b7fed4-42da-44ea-ee60-fc308d646ef5"
      },
      "execution_count": 6,
      "outputs": [
        {
          "output_type": "stream",
          "name": "stdout",
          "text": [
            "Received HTTP/1.1 200 OK\r\n",
            "Date: Thu, 28 Mar 2024 04:37:41 GMT\r\n",
            "Expires: -1\r\n",
            "Cache-Control: private, max-age=0\r\n",
            "Content-Type: text/html; charset=ISO-8859-1\r\n",
            "Content-Security-Policy-Report-Only: object-src 'none';base-uri 'self';script-src 'nonce-p_KcHB2-7ta79ylPNbcAiA' 'strict-dynamic' 'report-sample' 'unsafe-eval' 'unsafe-inline' https: http:;report-uri https://csp.withgoogle.com/csp/gws/other-hp\r\n",
            "P3P: CP=\"This is not a P3P policy! See g.co/p3phelp for more info.\"\r\n",
            "Server: gws\r\n",
            "X-XSS-Protection: 0\r\n",
            "X-Frame-Options: SAMEORIGIN\r\n",
            "Set-Cookie: 1P_JAR=2024-03-28-04; expires=Sat, 27-Apr-2024 04:37:41 GMT; path=/; domain=.google.com; Secure\r\n",
            "Set-Cookie: AEC=Ae3NU9OuKuCmLwslJlXkQj3R9RfsM3wHGeiC_IDyxgcX9URNRhHics0Xjg; expires=Tue, 24-Sep-2024 04:37:41 GMT; path=/; domain=.google.com; Secure; HttpOnly; SameSite=lax\r\n",
            "Set-Cookie: NID=512=VhIQKI_h_vfUxOcGB6pxOcEr78piat9bhBvzoTGflJI3FqLHR31sZtT4RnyyAD0MTlOyVjyvoMdAoWkm7cewYP0mtGw83p-1zJNzu14pb3PXWZT1niGno8Sot0H6Xbf1MBucvAtD0mq-0Rm8d6Sg4o_UQeHSBY0sGcYauT0Bfbk; expires=Fri, 27-Sep-202\n"
          ]
        }
      ]
    },
    {
      "cell_type": "code",
      "source": [],
      "metadata": {
        "id": "51k2E1W6WU50"
      },
      "execution_count": null,
      "outputs": []
    }
  ]
}