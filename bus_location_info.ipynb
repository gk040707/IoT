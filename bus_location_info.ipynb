{
  "nbformat": 4,
  "nbformat_minor": 0,
  "metadata": {
    "colab": {
      "provenance": [],
      "authorship_tag": "ABX9TyPDWYEVaBm22n9qcCPHUxmh",
      "include_colab_link": true
    },
    "kernelspec": {
      "name": "python3",
      "display_name": "Python 3"
    },
    "language_info": {
      "name": "python"
    }
  },
  "cells": [
    {
      "cell_type": "markdown",
      "metadata": {
        "id": "view-in-github",
        "colab_type": "text"
      },
      "source": [
        "<a href=\"https://colab.research.google.com/github/gk040707/IoT/blob/main/bus_location_info.ipynb\" target=\"_parent\"><img src=\"https://colab.research.google.com/assets/colab-badge.svg\" alt=\"Open In Colab\"/></a>"
      ]
    },
    {
      "cell_type": "code",
      "execution_count": 1,
      "metadata": {
        "id": "b0cMkzIlEpu3",
        "colab": {
          "base_uri": "https://localhost:8080/"
        },
        "outputId": "b7ceda37-93a5-436d-a99f-c6749831d1fd"
      },
      "outputs": [
        {
          "output_type": "stream",
          "name": "stdout",
          "text": [
            "<?xml version=\"1.0\" encoding=\"UTF-8\" standalone=\"yes\"?><response><comMsgHeader/><msgHeader><queryTime>2024-03-17 19:02:23.286</queryTime><resultCode>0</resultCode><resultMessage>정상적으로 처리되었습니다.</resultMessage></msgHeader><msgBody><busLocationList><endBus>0</endBus><lowPlate>0</lowPlate><plateNo>경기70사1686</plateNo><plateType>3</plateType><remainSeatCnt>44</remainSeatCnt><routeId>233000031</routeId><stationId>277103109</stationId><stationSeq>2</stationSeq></busLocationList><busLocationList><endBus>0</endBus><lowPlate>0</lowPlate><plateNo>경기70사1653</plateNo><plateType>3</plateType><remainSeatCnt>37</remainSeatCnt><routeId>233000031</routeId><stationId>200000185</stationId><stationSeq>56</stationSeq></busLocationList><busLocationList><endBus>0</endBus><lowPlate>0</lowPlate><plateNo>경기70사1612</plateNo><plateType>3</plateType><remainSeatCnt>36</remainSeatCnt><routeId>233000031</routeId><stationId>277103203</stationId><stationSeq>29</stationSeq></busLocationList><busLocationList><endBus>0</endBus><lowPlate>0</lowPlate><plateNo>경기70사1502</plateNo><plateType>3</plateType><remainSeatCnt>2</remainSeatCnt><routeId>233000031</routeId><stationId>220000009</stationId><stationSeq>38</stationSeq></busLocationList><busLocationList><endBus>0</endBus><lowPlate>0</lowPlate><plateNo>경기70사1168</plateNo><plateType>3</plateType><remainSeatCnt>7</remainSeatCnt><routeId>233000031</routeId><stationId>200000196</stationId><stationSeq>52</stationSeq></busLocationList><busLocationList><endBus>0</endBus><lowPlate>0</lowPlate><plateNo>경기70사1673</plateNo><plateType>4</plateType><remainSeatCnt>55</remainSeatCnt><routeId>233000031</routeId><stationId>120000677</stationId><stationSeq>35</stationSeq></busLocationList><busLocationList><endBus>0</endBus><lowPlate>0</lowPlate><plateNo>경기70사1690</plateNo><plateType>3</plateType><remainSeatCnt>44</remainSeatCnt><routeId>233000031</routeId><stationId>202000208</stationId><stationSeq>67</stationSeq></busLocationList><busLocationList><endBus>0</endBus><lowPlate>0</lowPlate><plateNo>경기70사1185</plateNo><plateType>3</plateType><remainSeatCnt>43</remainSeatCnt><routeId>233000031</routeId><stationId>121001315</stationId><stationSeq>33</stationSeq></busLocationList><busLocationList><endBus>0</endBus><lowPlate>0</lowPlate><plateNo>경기70사1189</plateNo><plateType>3</plateType><remainSeatCnt>44</remainSeatCnt><routeId>233000031</routeId><stationId>277101594</stationId><stationSeq>3</stationSeq></busLocationList><busLocationList><endBus>0</endBus><lowPlate>0</lowPlate><plateNo>경기70사1181</plateNo><plateType>3</plateType><remainSeatCnt>39</remainSeatCnt><routeId>233000031</routeId><stationId>202000201</stationId><stationSeq>63</stationSeq></busLocationList><busLocationList><endBus>0</endBus><lowPlate>0</lowPlate><plateNo>경기70사1671</plateNo><plateType>4</plateType><remainSeatCnt>58</remainSeatCnt><routeId>233000031</routeId><stationId>200000075</stationId><stationSeq>21</stationSeq></busLocationList><busLocationList><endBus>0</endBus><lowPlate>0</lowPlate><plateNo>경기70사1139</plateNo><plateType>3</plateType><remainSeatCnt>36</remainSeatCnt><routeId>233000031</routeId><stationId>202000204</stationId><stationSeq>9</stationSeq></busLocationList><busLocationList><endBus>0</endBus><lowPlate>0</lowPlate><plateNo>경기70사1669</plateNo><plateType>4</plateType><remainSeatCnt>58</remainSeatCnt><routeId>233000031</routeId><stationId>202000202</stationId><stationSeq>61</stationSeq></busLocationList><busLocationList><endBus>0</endBus><lowPlate>0</lowPlate><plateNo>경기70사1153</plateNo><plateType>3</plateType><remainSeatCnt>41</remainSeatCnt><routeId>233000031</routeId><stationId>202000223</stationId><stationSeq>5</stationSeq></busLocationList><busLocationList><endBus>0</endBus><lowPlate>0</lowPlate><plateNo>경기70사1501</plateNo><plateType>3</plateType><remainSeatCnt>44</remainSeatCnt><routeId>233000031</routeId><stationId>277103537</stationId><stationSeq>34</stationSeq></busLocationList><busLocationList><endBus>0</endBus><lowPlate>0</lowPlate><plateNo>경기70사1668</plateNo><plateType>4</plateType><remainSeatCnt>60</remainSeatCnt><routeId>233000031</routeId><stationId>121001315</stationId><stationSeq>33</stationSeq></busLocationList><busLocationList><endBus>0</endBus><lowPlate>0</lowPlate><plateNo>경기70사1636</plateNo><plateType>3</plateType><remainSeatCnt>23</remainSeatCnt><routeId>233000031</routeId><stationId>277103220</stationId><stationSeq>43</stationSeq></busLocationList><busLocationList><endBus>0</endBus><lowPlate>0</lowPlate><plateNo>경기70사1672</plateNo><plateType>4</plateType><remainSeatCnt>48</remainSeatCnt><routeId>233000031</routeId><stationId>277103057</stationId><stationSeq>48</stationSeq></busLocationList><busLocationList><endBus>0</endBus><lowPlate>0</lowPlate><plateNo>경기70사1169</plateNo><plateType>3</plateType><remainSeatCnt>41</remainSeatCnt><routeId>233000031</routeId><stationId>200000080</stationId><stationSeq>16</stationSeq></busLocationList><busLocationList><endBus>0</endBus><lowPlate>0</lowPlate><plateNo>경기70사1650</plateNo><plateType>3</plateType><remainSeatCnt>37</remainSeatCnt><routeId>233000031</routeId><stationId>277103221</stationId><stationSeq>26</stationSeq></busLocationList></msgBody></response>\n"
          ]
        }
      ],
      "source": [
        "import requests\n",
        "url='http://openapi.gbis.go.kr/ws/rest/buslocationservice?serviceKey=1234567890&routeId=233000031'\n",
        "r = requests.get(url)\n",
        "print(r.text)"
      ]
    },
    {
      "cell_type": "code",
      "source": [
        "from bs4 import BeautifulSoup\n",
        "soup = BeautifulSoup(r.text, features=\"xml\")"
      ],
      "metadata": {
        "id": "eEU2fWc03Fqr"
      },
      "execution_count": 2,
      "outputs": []
    },
    {
      "cell_type": "code",
      "source": [
        "soup.find_all('stationId')"
      ],
      "metadata": {
        "colab": {
          "base_uri": "https://localhost:8080/"
        },
        "id": "p6DNd-933IZD",
        "outputId": "c1b710e3-6976-4a4a-e90c-655bdd4f5cd1"
      },
      "execution_count": 3,
      "outputs": [
        {
          "output_type": "execute_result",
          "data": {
            "text/plain": [
              "[<stationId>277103109</stationId>,\n",
              " <stationId>200000185</stationId>,\n",
              " <stationId>277103203</stationId>,\n",
              " <stationId>220000009</stationId>,\n",
              " <stationId>200000196</stationId>,\n",
              " <stationId>120000677</stationId>,\n",
              " <stationId>202000208</stationId>,\n",
              " <stationId>121001315</stationId>,\n",
              " <stationId>277101594</stationId>,\n",
              " <stationId>202000201</stationId>,\n",
              " <stationId>200000075</stationId>,\n",
              " <stationId>202000204</stationId>,\n",
              " <stationId>202000202</stationId>,\n",
              " <stationId>202000223</stationId>,\n",
              " <stationId>277103537</stationId>,\n",
              " <stationId>121001315</stationId>,\n",
              " <stationId>277103220</stationId>,\n",
              " <stationId>277103057</stationId>,\n",
              " <stationId>200000080</stationId>,\n",
              " <stationId>277103221</stationId>]"
            ]
          },
          "metadata": {},
          "execution_count": 3
        }
      ]
    },
    {
      "cell_type": "code",
      "source": [
        "print('학번=', 2323002, '이름=', '고결')"
      ],
      "metadata": {
        "colab": {
          "base_uri": "https://localhost:8080/"
        },
        "id": "sUs4kIiF3Mhx",
        "outputId": "35a23415-2732-43cc-918f-c6b05ad7f074"
      },
      "execution_count": 4,
      "outputs": [
        {
          "output_type": "stream",
          "name": "stdout",
          "text": [
            "학번= 2323002 이름= 고결\n"
          ]
        }
      ]
    }
  ]
}