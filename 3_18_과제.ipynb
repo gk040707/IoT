{
  "nbformat": 4,
  "nbformat_minor": 0,
  "metadata": {
    "colab": {
      "provenance": [],
      "authorship_tag": "ABX9TyONLYptLKaruwSg92z3vm3w",
      "include_colab_link": true
    },
    "kernelspec": {
      "name": "python3",
      "display_name": "Python 3"
    },
    "language_info": {
      "name": "python"
    }
  },
  "cells": [
    {
      "cell_type": "markdown",
      "metadata": {
        "id": "view-in-github",
        "colab_type": "text"
      },
      "source": [
        "<a href=\"https://colab.research.google.com/github/gk040707/IoT/blob/main/3_18_%EA%B3%BC%EC%A0%9C.ipynb\" target=\"_parent\"><img src=\"https://colab.research.google.com/assets/colab-badge.svg\" alt=\"Open In Colab\"/></a>"
      ]
    },
    {
      "cell_type": "code",
      "execution_count": 1,
      "metadata": {
        "colab": {
          "base_uri": "https://localhost:8080/"
        },
        "id": "koLKw69J6Vpv",
        "outputId": "b23a2e82-835f-4d33-9aed-f937f6341902"
      },
      "outputs": [
        {
          "output_type": "stream",
          "name": "stdout",
          "text": [
            "<?xml version=\"1.0\" encoding=\"UTF-8\" standalone=\"yes\"?><Result><Code>00</Code><City><city-name>강원특별자치도</city-name><city-count>133</city-count></City><City><city-name>경기도</city-name><city-count>706</city-count></City><City><city-name>경상남도</city-name><city-count>214</city-count></City><City><city-name>경상북도</city-name><city-count>207</city-count></City><City><city-name>광주광역시</city-name><city-count>115</city-count></City><City><city-name>기타</city-name><city-count>570</city-count></City><City><city-name>대구광역시</city-name><city-count>141</city-count></City><City><city-name>대전광역시</city-name><city-count>75</city-count></City><City><city-name>부산광역시</city-name><city-count>185</city-count></City><City><city-name>서울특별시</city-name><city-count>412</city-count></City><City><city-name>세종특별자치시</city-name><city-count>6</city-count></City><City><city-name>울산광역시</city-name><city-count>56</city-count></City><City><city-name>인천광역시</city-name><city-count>213</city-count></City><City><city-name>전라남도</city-name><city-count>140</city-count></City><City><city-name>전북특별자치도</city-name><city-count>182</city-count></City><City><city-name>제주특별자치도</city-name><city-count>46</city-count></City><City><city-name>충청남도</city-name><city-count>183</city-count></City><City><city-name>충청북도</city-name><city-count>125</city-count></City></Result>\n"
          ]
        }
      ],
      "source": [
        "import requests\n",
        "from bs4 import BeautifulSoup\n",
        "r = requests.get('http://api.sexoffender.go.kr/openapi/SOCitysStats/')\n",
        "print (r.text)"
      ]
    },
    {
      "cell_type": "code",
      "source": [
        "soup = BeautifulSoup (r.text, features=\"xml\")"
      ],
      "metadata": {
        "id": "a5FTXFoy9k9c"
      },
      "execution_count": 2,
      "outputs": []
    },
    {
      "cell_type": "code",
      "source": [
        "soup.find_all('city-name')"
      ],
      "metadata": {
        "colab": {
          "base_uri": "https://localhost:8080/"
        },
        "id": "BZtIt4r59qiP",
        "outputId": "4c8704b8-88ef-4f60-b9c2-33c607a51128"
      },
      "execution_count": 3,
      "outputs": [
        {
          "output_type": "execute_result",
          "data": {
            "text/plain": [
              "[<city-name>강원특별자치도</city-name>,\n",
              " <city-name>경기도</city-name>,\n",
              " <city-name>경상남도</city-name>,\n",
              " <city-name>경상북도</city-name>,\n",
              " <city-name>광주광역시</city-name>,\n",
              " <city-name>기타</city-name>,\n",
              " <city-name>대구광역시</city-name>,\n",
              " <city-name>대전광역시</city-name>,\n",
              " <city-name>부산광역시</city-name>,\n",
              " <city-name>서울특별시</city-name>,\n",
              " <city-name>세종특별자치시</city-name>,\n",
              " <city-name>울산광역시</city-name>,\n",
              " <city-name>인천광역시</city-name>,\n",
              " <city-name>전라남도</city-name>,\n",
              " <city-name>전북특별자치도</city-name>,\n",
              " <city-name>제주특별자치도</city-name>,\n",
              " <city-name>충청남도</city-name>,\n",
              " <city-name>충청북도</city-name>]"
            ]
          },
          "metadata": {},
          "execution_count": 3
        }
      ]
    }
  ]
}